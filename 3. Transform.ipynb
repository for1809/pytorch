{
 "cells": [
  {
   "metadata": {
    "ExecuteTime": {
     "end_time": "2025-02-11T11:31:16.126245Z",
     "start_time": "2025-02-11T11:31:16.083520Z"
    }
   },
   "cell_type": "code",
   "source": [
    "# 데이터가 항상 머신러닝 알고리즘 학습에 필요한 최종 처리가 된 형태로 제공되지는 않음. 따라서 데이터 조작이 필요함\n",
    "# 모든 TorchVision 데이터셋들은 변형 로직을 갖는 callable object를 받는 매개변수 두 개(특징 변경: transform 정답 변경: target_transform)를 가짐\n",
    "import torch\n",
    "from torchvision import datasets\n",
    "from torchvision.transforms import ToTensor, Lambda\n",
    "ds = datasets.FashionMNIST(\n",
    "    root = 'data',\n",
    "    train = True,\n",
    "    download = True,\n",
    "    transform = ToTensor(), # PIL Image나 array를 FloatTensor로 변환 후 각 픽셀의 intensity값을 [0,1]범위로 비례 조정\n",
    "    target_transform = Lambda(lambda y: torch.zeros(10, dtype = torch.float).scatter_(0, torch.tensor(y), value = 1)) # 정답값에 해당하는 인덱스에 value = 1 할당\n",
    ")\n"
   ],
   "id": "1b8490700f28b91a",
   "outputs": [
    {
     "data": {
      "text/plain": [
       "Dataset FashionMNIST\n",
       "    Number of datapoints: 60000\n",
       "    Root location: data\n",
       "    Split: Train\n",
       "    StandardTransform\n",
       "Transform: ToTensor()\n",
       "Target transform: Lambda()"
      ]
     },
     "metadata": {},
     "output_type": "display_data"
    }
   ],
   "execution_count": 5
  }
 ],
 "metadata": {
  "kernelspec": {
   "name": "python3",
   "language": "python",
   "display_name": "Python 3 (ipykernel)"
  }
 },
 "nbformat": 5,
 "nbformat_minor": 9
}
