{
 "cells": [
  {
   "cell_type": "code",
   "id": "initial_id",
   "metadata": {
    "collapsed": true,
    "ExecuteTime": {
     "end_time": "2025-02-11T07:57:04.455756Z",
     "start_time": "2025-02-11T07:56:59.233534Z"
    }
   },
   "source": [
    "import torch\n",
    "import numpy as np"
   ],
   "outputs": [],
   "execution_count": 2
  },
  {
   "metadata": {
    "ExecuteTime": {
     "end_time": "2025-02-11T07:57:04.486369Z",
     "start_time": "2025-02-11T07:57:04.463044Z"
    }
   },
   "cell_type": "code",
   "source": [
    "# 텐서 초기화\n",
    "data = [[1, 2],\n",
    "        [3, 4]]\n",
    "x_data = torch.tensor(data) # 데이터로부터 직접 생성\n",
    "np_array = np.array(data)\n",
    "x_np = torch.from_numpy(np_array) # array로부터 생성\n",
    "# 다른 텐서로부터 생성\n",
    "x_ones = torch.ones_like(x_data) # x_data의 속성 유지\n",
    "print(f'Ones Tensor: \\n{x_ones}')\n",
    "x_rand = torch.rand_like(x_data, dtype = torch.float) # x_data의 속성에 덮어쓰기\n",
    "print(f'Random Tensor: \\n{x_rand}')\n",
    "\n",
    "shape = (2, 3,)\n",
    "rand_tensor = torch.rand(shape)\n",
    "ones_tensor = torch.ones(shape)\n",
    "zeros_tensor = torch.zeros(shape)\n",
    "print(f'Random Tensor: \\n{rand_tensor}')\n",
    "print(f'Ones Tensor: \\n{ones_tensor}')\n",
    "print(f'Zeros Tensor: \\n{zeros_tensor}')"
   ],
   "id": "9803d6195eb37a6e",
   "outputs": [
    {
     "name": "stdout",
     "output_type": "stream",
     "text": [
      "Ones Tensor: \n",
      "tensor([[1, 1],\n",
      "        [1, 1]])\n",
      "Random Tensor: \n",
      "tensor([[0.3089, 0.1318],\n",
      "        [0.3275, 0.8864]])\n",
      "Random Tensor: \n",
      "tensor([[0.3572, 0.2399, 0.2541],\n",
      "        [0.4700, 0.0953, 0.9705]])\n",
      "Ones Tensor: \n",
      "tensor([[1., 1., 1.],\n",
      "        [1., 1., 1.]])\n",
      "Zeros Tensor: \n",
      "tensor([[0., 0., 0.],\n",
      "        [0., 0., 0.]])\n"
     ]
    }
   ],
   "execution_count": 3
  },
  {
   "metadata": {
    "ExecuteTime": {
     "end_time": "2025-02-11T07:57:04.515180Z",
     "start_time": "2025-02-11T07:57:04.510876Z"
    }
   },
   "cell_type": "code",
   "source": [
    "# 텐서의 속성(Attribute)\n",
    "tensor = torch.rand(3, 4)\n",
    "print(f'Shape of tensor: \\n{tensor.shape}')\n",
    "print(f'Data type of tensor: \\n{tensor.dtype}')\n",
    "print(f'Device tensor is stored on: {tensor.device}')"
   ],
   "id": "a61208a22213742a",
   "outputs": [
    {
     "name": "stdout",
     "output_type": "stream",
     "text": [
      "Shape of tensor: \n",
      "torch.Size([3, 4])\n",
      "Data type of tensor: \n",
      "torch.float32\n",
      "Device tensor is stored on: cpu\n"
     ]
    }
   ],
   "execution_count": 4
  },
  {
   "metadata": {
    "ExecuteTime": {
     "end_time": "2025-02-11T07:57:04.611412Z",
     "start_time": "2025-02-11T07:57:04.605697Z"
    }
   },
   "cell_type": "code",
   "source": [
    "# 텐서 연산(Operation)\n",
    "if torch.cuda.is_available():\n",
    "    tensor = tensor.to('cuda') # gpu가 존재하면 텐서 이동\n",
    "tensor.device\n",
    "torch.cuda.is_available()"
   ],
   "id": "cd1ad5b45ad9fe39",
   "outputs": [
    {
     "data": {
      "text/plain": [
       "False"
      ]
     },
     "execution_count": 5,
     "metadata": {},
     "output_type": "execute_result"
    }
   ],
   "execution_count": 5
  },
  {
   "metadata": {
    "ExecuteTime": {
     "end_time": "2025-02-11T07:57:04.729499Z",
     "start_time": "2025-02-11T07:57:04.722160Z"
    }
   },
   "cell_type": "code",
   "source": [
    "# NumPy식의 표준 인덱싱과 슬라이싱\n",
    "tensor = torch.ones(4, 4)\n",
    "print(tensor)\n",
    "print(f'First row: {tensor[0]}')\n",
    "print(f'First column: {tensor[:, 0]}')\n",
    "print(f'Last column: {tensor[:, -1]}')\n",
    "tensor[:, 1] = 0\n",
    "print(tensor)\n"
   ],
   "id": "a5edaad1cf982b6f",
   "outputs": [
    {
     "name": "stdout",
     "output_type": "stream",
     "text": [
      "tensor([[1., 1., 1., 1.],\n",
      "        [1., 1., 1., 1.],\n",
      "        [1., 1., 1., 1.],\n",
      "        [1., 1., 1., 1.]])\n",
      "First row: tensor([1., 1., 1., 1.])\n",
      "First column: tensor([1., 1., 1., 1.])\n",
      "Last column: tensor([1., 1., 1., 1.])\n",
      "tensor([[1., 0., 1., 1.],\n",
      "        [1., 0., 1., 1.],\n",
      "        [1., 0., 1., 1.],\n",
      "        [1., 0., 1., 1.]])\n"
     ]
    }
   ],
   "execution_count": 6
  },
  {
   "metadata": {
    "ExecuteTime": {
     "end_time": "2025-02-11T07:58:26.917467Z",
     "start_time": "2025-02-11T07:58:26.912779Z"
    }
   },
   "cell_type": "code",
   "source": [
    "# 텐서 합치기\n",
    "t1 = torch.cat([tensor, tensor, tensor], dim = 1)\n",
    "t1"
   ],
   "id": "ccef9371fd69fc7a",
   "outputs": [
    {
     "data": {
      "text/plain": [
       "tensor([[1., 0., 1., 1., 1., 0., 1., 1., 1., 0., 1., 1.],\n",
       "        [1., 0., 1., 1., 1., 0., 1., 1., 1., 0., 1., 1.],\n",
       "        [1., 0., 1., 1., 1., 0., 1., 1., 1., 0., 1., 1.],\n",
       "        [1., 0., 1., 1., 1., 0., 1., 1., 1., 0., 1., 1.]])"
      ]
     },
     "execution_count": 14,
     "metadata": {},
     "output_type": "execute_result"
    }
   ],
   "execution_count": 14
  },
  {
   "metadata": {
    "ExecuteTime": {
     "end_time": "2025-02-11T08:07:43.722539Z",
     "start_time": "2025-02-11T08:07:43.717141Z"
    }
   },
   "cell_type": "code",
   "source": [
    "# 산술 연산\n",
    "tensor = torch.tensor([[1 ,0, 1],\n",
    "                        [1, 0, 1],\n",
    "                        [1, 0, 1],\n",
    "                        [1, 0, 1]])\n",
    "y1 = tensor @ tensor.T # 행렬곱\n",
    "y2 = tensor.matmul(tensor.T)\n",
    "print(y1)\n",
    "print(y2)\n",
    "\n",
    "z1 = tensor * tensor # 요소별 곱\n",
    "z2 = tensor.mul(tensor)\n",
    "\n",
    "z3 = torch.rand_like(tensor, dtype = torch.float)\n",
    "torch.mul(tensor, tensor, out = z3) # 결과를 z3에 저장"
   ],
   "id": "aa446f7b19784f37",
   "outputs": [
    {
     "name": "stdout",
     "output_type": "stream",
     "text": [
      "tensor([[2, 2, 2, 2],\n",
      "        [2, 2, 2, 2],\n",
      "        [2, 2, 2, 2],\n",
      "        [2, 2, 2, 2]])\n",
      "tensor([[2, 2, 2, 2],\n",
      "        [2, 2, 2, 2],\n",
      "        [2, 2, 2, 2],\n",
      "        [2, 2, 2, 2]])\n"
     ]
    },
    {
     "data": {
      "text/plain": [
       "tensor([[1., 0., 1.],\n",
       "        [1., 0., 1.],\n",
       "        [1., 0., 1.],\n",
       "        [1., 0., 1.]])"
      ]
     },
     "execution_count": 26,
     "metadata": {},
     "output_type": "execute_result"
    }
   ],
   "execution_count": 26
  },
  {
   "metadata": {
    "ExecuteTime": {
     "end_time": "2025-02-11T08:09:42.026211Z",
     "start_time": "2025-02-11T08:09:42.022081Z"
    }
   },
   "cell_type": "code",
   "source": [
    "# 단일 요소 텐서의 데이터 타입 변환\n",
    "agg = tensor.sum()\n",
    "print(agg, type(agg)) # <class 'torch.Tensor'>\n",
    "agg_item = agg.item()\n",
    "print(agg_item, type(agg_item)) # <class 'int'>"
   ],
   "id": "e8898a7d27f759d6",
   "outputs": [
    {
     "name": "stdout",
     "output_type": "stream",
     "text": [
      "tensor(8) <class 'torch.Tensor'>\n",
      "8 <class 'int'>\n"
     ]
    }
   ],
   "execution_count": 30
  },
  {
   "metadata": {
    "ExecuteTime": {
     "end_time": "2025-02-11T08:11:41.058071Z",
     "start_time": "2025-02-11T08:11:41.050658Z"
    }
   },
   "cell_type": "code",
   "source": [
    "# in-place 연산\n",
    "print(tensor)\n",
    "tensor.add(5)\n",
    "print(tensor)\n",
    "tensor.add_(5) # _(언더바)를 추가하면 값 자체를 변경함\n",
    "print(tensor)\n",
    "# 도함수 계산에 문제가 발생할 수 있으므로 사용을 권장하지 않음"
   ],
   "id": "958d9e9fd7095e03",
   "outputs": [
    {
     "name": "stdout",
     "output_type": "stream",
     "text": [
      "tensor([[6, 5, 6],\n",
      "        [6, 5, 6],\n",
      "        [6, 5, 6],\n",
      "        [6, 5, 6]])\n",
      "tensor([[6, 5, 6],\n",
      "        [6, 5, 6],\n",
      "        [6, 5, 6],\n",
      "        [6, 5, 6]])\n",
      "tensor([[11, 10, 11],\n",
      "        [11, 10, 11],\n",
      "        [11, 10, 11],\n",
      "        [11, 10, 11]])\n"
     ]
    }
   ],
   "execution_count": 34
  },
  {
   "metadata": {
    "ExecuteTime": {
     "end_time": "2025-02-11T08:53:21.283713Z",
     "start_time": "2025-02-11T08:53:21.277094Z"
    }
   },
   "cell_type": "code",
   "source": [
    "# NumPy 변환\n",
    "# 텐서를 nUMpY 배열로 변환\n",
    "t = torch.ones(5)\n",
    "n = t.numpy()\n",
    "print(n, type(n)) # <class 'numpy.ndarray'>\n",
    "# 텐서와 NumPy배열은 같은 메모리 공간을 공유하기 때문에 하나를 변경하면 다른 하나도 변경됨\n",
    "t.add_(1)\n",
    "print(t) # tensor([2., 2., 2., 2., 2.])\n",
    "print(n) # [2. 2. 2. 2. 2.]\n",
    "# NumPy배열을 텐서로 변환\n",
    "n = np.ones(5)\n",
    "t = torch.from_numpy(n)\n",
    "print(n)\n",
    "print(t)\n",
    "\n",
    "np.add(n, 1, out = n)\n",
    "print(n)\n",
    "print(t)"
   ],
   "id": "610a9a390321fd9f",
   "outputs": [
    {
     "name": "stdout",
     "output_type": "stream",
     "text": [
      "[1. 1. 1. 1. 1.] <class 'numpy.ndarray'>\n",
      "tensor([2., 2., 2., 2., 2.])\n",
      "[2. 2. 2. 2. 2.]\n",
      "[1. 1. 1. 1. 1.]\n",
      "tensor([1., 1., 1., 1., 1.], dtype=torch.float64)\n",
      "[2. 2. 2. 2. 2.]\n",
      "tensor([2., 2., 2., 2., 2.], dtype=torch.float64)\n"
     ]
    }
   ],
   "execution_count": 41
  },
  {
   "metadata": {},
   "cell_type": "code",
   "outputs": [],
   "execution_count": null,
   "source": "",
   "id": "92822bffb7542000"
  }
 ],
 "metadata": {
  "kernelspec": {
   "display_name": "Python 3",
   "language": "python",
   "name": "python3"
  },
  "language_info": {
   "codemirror_mode": {
    "name": "ipython",
    "version": 2
   },
   "file_extension": ".py",
   "mimetype": "text/x-python",
   "name": "python",
   "nbconvert_exporter": "python",
   "pygments_lexer": "ipython2",
   "version": "2.7.6"
  }
 },
 "nbformat": 4,
 "nbformat_minor": 5
}
