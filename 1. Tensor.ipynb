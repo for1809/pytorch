{
 "cells": [
  {
   "cell_type": "code",
   "id": "initial_id",
   "metadata": {
    "collapsed": true,
    "ExecuteTime": {
     "end_time": "2025-02-06T09:18:04.625407Z",
     "start_time": "2025-02-06T09:18:02.886554Z"
    }
   },
   "source": [
    "import torch\n",
    "import numpy as np"
   ],
   "outputs": [],
   "execution_count": 1
  },
  {
   "metadata": {
    "ExecuteTime": {
     "end_time": "2025-02-06T09:24:03.285732Z",
     "start_time": "2025-02-06T09:24:03.278965Z"
    }
   },
   "cell_type": "code",
   "source": [
    "# 텐서 초기화\n",
    "data = [[1, 2],\n",
    "        [3, 4]]\n",
    "x_data = torch.tensor(data) # 데이터로부터 직접 생성\n",
    "np_array = np.array(data)\n",
    "x_np = torch.from_numpy(np_array) # array로부터 생성\n",
    "# 다른 텐서로부터 생성\n",
    "x_ones = torch.ones_like(x_data) # x_data의 속성 유지\n",
    "print(f'Ones Tensor: \\n{x_ones}')\n",
    "x_rand = torch.rand_like(x_data, dtype = torch.float) # x_data의 속성에 덮어쓰기\n",
    "print(f'Random Tensor: \\n{x_rand}')\n",
    "\n",
    "shape = (2, 3,)\n",
    "rand_tensor = torch.rand(shape)\n",
    "ones_tensor = torch.ones(shape)\n",
    "zeros_tensor = torch.zeros(shape)\n",
    "print(f'Random Tensor: \\n{rand_tensor}')\n",
    "print(f'Ones Tensor: \\n{ones_tensor}')\n",
    "print(f'Zeros Tensor: \\n{zeros_tensor}')"
   ],
   "id": "9803d6195eb37a6e",
   "outputs": [
    {
     "name": "stdout",
     "output_type": "stream",
     "text": [
      "Ones Tensor: \n",
      "tensor([[1, 1],\n",
      "        [1, 1]])\n",
      "Random Tensor: \n",
      "tensor([[0.3662, 0.4970],\n",
      "        [0.6738, 0.2137]])\n",
      "Random Tensor: \n",
      "tensor([[0.2342, 0.7316, 0.2233],\n",
      "        [0.6071, 0.9586, 0.4900]])\n",
      "Ones Tensor: \n",
      "tensor([[1., 1., 1.],\n",
      "        [1., 1., 1.]])\n",
      "Zeros Tensor: \n",
      "tensor([[0., 0., 0.],\n",
      "        [0., 0., 0.]])\n"
     ]
    }
   ],
   "execution_count": 10
  },
  {
   "metadata": {
    "ExecuteTime": {
     "end_time": "2025-02-06T09:30:19.832534Z",
     "start_time": "2025-02-06T09:30:19.828314Z"
    }
   },
   "cell_type": "code",
   "source": [
    "# 텐서의 속성(Attribute)\n",
    "tensor = torch.rand(3, 4)\n",
    "print(f'Shape of tensor: \\n{tensor.shape}')\n",
    "print(f'Data type of tensor: \\n{tensor.dtype}')\n",
    "print(f'Device tensor is stored on: {tensor.device}')"
   ],
   "id": "a61208a22213742a",
   "outputs": [
    {
     "name": "stdout",
     "output_type": "stream",
     "text": [
      "Shape of tensor: \n",
      "torch.Size([3, 4])\n",
      "Data type of tensor: \n",
      "torch.float32\n",
      "Device tensor is stored on: cpu\n"
     ]
    }
   ],
   "execution_count": 13
  },
  {
   "metadata": {
    "ExecuteTime": {
     "end_time": "2025-02-06T10:14:29.887560Z",
     "start_time": "2025-02-06T10:14:29.882485Z"
    }
   },
   "cell_type": "code",
   "source": [
    "# 텐서 연산(Operation)\n",
    "if torch.cuda.is_available():\n",
    "    tensor = tensor.to('cuda') # gpu가 존재하면 텐서 이동\n",
    "tensor.device\n",
    "torch.cuda.is_available()"
   ],
   "id": "cd1ad5b45ad9fe39",
   "outputs": [
    {
     "data": {
      "text/plain": [
       "False"
      ]
     },
     "execution_count": 17,
     "metadata": {},
     "output_type": "execute_result"
    }
   ],
   "execution_count": 17
  },
  {
   "metadata": {
    "ExecuteTime": {
     "end_time": "2025-02-06T10:16:48.556034Z",
     "start_time": "2025-02-06T10:16:48.548940Z"
    }
   },
   "cell_type": "code",
   "source": [
    "# NumPy식의 표준 인덱싱과 슬라이싱\n",
    "tensor = torch.ones(4, 4)\n",
    "print(tensor)\n",
    "print(f'First row: {tensor[0]}')\n",
    "print(f'First column: {tensor[:, 0]}')\n",
    "print(f'Last column: {tensor[:, -1]}')\n"
   ],
   "id": "a5edaad1cf982b6f",
   "outputs": [
    {
     "name": "stdout",
     "output_type": "stream",
     "text": [
      "tensor([[1., 1., 1., 1.],\n",
      "        [1., 1., 1., 1.],\n",
      "        [1., 1., 1., 1.],\n",
      "        [1., 1., 1., 1.]])\n",
      "First row: tensor([1., 1., 1., 1.])\n",
      "First column: tensor([1., 1., 1., 1.])\n",
      "Last column: tensor([1., 1., 1., 1.])\n"
     ]
    }
   ],
   "execution_count": 21
  },
  {
   "metadata": {},
   "cell_type": "code",
   "outputs": [],
   "execution_count": null,
   "source": "# 텐서 합치기`",
   "id": "ccef9371fd69fc7a"
  }
 ],
 "metadata": {
  "kernelspec": {
   "display_name": "Python 3",
   "language": "python",
   "name": "python3"
  },
  "language_info": {
   "codemirror_mode": {
    "name": "ipython",
    "version": 2
   },
   "file_extension": ".py",
   "mimetype": "text/x-python",
   "name": "python",
   "nbconvert_exporter": "python",
   "pygments_lexer": "ipython2",
   "version": "2.7.6"
  }
 },
 "nbformat": 4,
 "nbformat_minor": 5
}
