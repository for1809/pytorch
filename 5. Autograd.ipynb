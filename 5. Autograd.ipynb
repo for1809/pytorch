{
 "cells": [
  {
   "cell_type": "code",
   "id": "initial_id",
   "metadata": {
    "collapsed": true,
    "ExecuteTime": {
     "end_time": "2025-02-16T08:40:30.876792Z",
     "start_time": "2025-02-16T08:40:30.870197Z"
    }
   },
   "source": [
    "# 역전파\n",
    "# 가중치에 대한 손실의 변화율을 구하여 손실이 줄어드는 방향으로 가중치를 업데이트하는 방법\n",
    "# 순전파로 출력 계산 > 손실 및 기울기 계산 > 가중치 업데이트 > 순전파 ... 반복하여 성능 이끌어냄\n",
    "import torch\n",
    "\n",
    "x = torch.ones(5)\n",
    "y = torch.zeros(3)\n",
    "w = torch.randn(5, 3, requires_grad = True)\n",
    "b = torch.randn(3, requires_grad = True)\n",
    "z = torch.matmul(x, w) + b\n",
    "loss = torch.nn.functional.binary_cross_entropy_with_logits(z, y) # Binary Classification에서 사용되는 손실함수\n",
    "loss.backward()\n",
    "print(w.grad)\n",
    "print(b.grad)\n"
   ],
   "outputs": [
    {
     "name": "stdout",
     "output_type": "stream",
     "text": [
      "tensor([[0.0856, 0.0149, 0.1530],\n",
      "        [0.0856, 0.0149, 0.1530],\n",
      "        [0.0856, 0.0149, 0.1530],\n",
      "        [0.0856, 0.0149, 0.1530],\n",
      "        [0.0856, 0.0149, 0.1530]])\n",
      "tensor([0.0856, 0.0149, 0.1530])\n"
     ]
    }
   ],
   "execution_count": 5
  },
  {
   "metadata": {
    "ExecuteTime": {
     "end_time": "2025-02-16T08:52:29.614044Z",
     "start_time": "2025-02-16T08:52:29.608392Z"
    }
   },
   "cell_type": "code",
   "source": [
    "# 역전파로 가중치 갱신 후 단순 예측만 할 때에도 기울기 추적을 하면 메모리가 낭비됨. 따라서 기울기 추적을 중단시킬 필요가 있음\n",
    "z = torch.matmul(x, w) + b\n",
    "print(z.requires_grad)\n",
    "\n",
    "with torch.inference_mode():\n",
    "    z = torch.matmul(x, w) + b\n",
    "print(z.requires_grad)"
   ],
   "id": "e15e690a032a0300",
   "outputs": [
    {
     "name": "stdout",
     "output_type": "stream",
     "text": [
      "True\n",
      "False\n"
     ]
    }
   ],
   "execution_count": 18
  },
  {
   "metadata": {
    "ExecuteTime": {
     "end_time": "2025-02-16T09:11:25.807483Z",
     "start_time": "2025-02-16T09:11:25.796862Z"
    }
   },
   "cell_type": "code",
   "source": [
    "inp = torch.eye(4, 5, requires_grad = True) # Identity Matrix 생성\n",
    "'''\n",
    "[[1, 0, 0, 0, 0],\n",
    "[0, 1, 0, 0, 0],\n",
    "[0, 0, 1, 0, 0],\n",
    "[0, 0, 0, 1, 0]]\n",
    "'''\n",
    "out = (inp + 1).pow(2).t()\n",
    "'''\n",
    "[[4, 1, 1, 1],\n",
    "[1, 4, 1, 1],\n",
    "[1, 1, 4, 1],\n",
    "[1, 1, 1, 4],\n",
    "[1, 1, 1, 1]]\n",
    "'''\n",
    "print(out)\n",
    "out.backward(torch.ones_like(out), retain_graph = True)\n",
    "print(inp.grad)\n",
    "out.backward(torch.ones_like(out), retain_graph = True)\n",
    "print(inp.grad)\n",
    "inp.grad.zero_()\n",
    "out.backward(torch.ones_like(out), retain_graph = True)\n",
    "print(inp.grad)"
   ],
   "id": "a86a37330422b388",
   "outputs": [
    {
     "name": "stdout",
     "output_type": "stream",
     "text": [
      "tensor([[4., 1., 1., 1.],\n",
      "        [1., 4., 1., 1.],\n",
      "        [1., 1., 4., 1.],\n",
      "        [1., 1., 1., 4.],\n",
      "        [1., 1., 1., 1.]], grad_fn=<TBackward0>)\n",
      "tensor([[4., 2., 2., 2., 2.],\n",
      "        [2., 4., 2., 2., 2.],\n",
      "        [2., 2., 4., 2., 2.],\n",
      "        [2., 2., 2., 4., 2.]])\n",
      "tensor([[8., 4., 4., 4., 4.],\n",
      "        [4., 8., 4., 4., 4.],\n",
      "        [4., 4., 8., 4., 4.],\n",
      "        [4., 4., 4., 8., 4.]])\n",
      "tensor([[4., 2., 2., 2., 2.],\n",
      "        [2., 4., 2., 2., 2.],\n",
      "        [2., 2., 4., 2., 2.],\n",
      "        [2., 2., 2., 4., 2.]])\n"
     ]
    }
   ],
   "execution_count": 23
  }
 ],
 "metadata": {
  "kernelspec": {
   "display_name": "Python 3",
   "language": "python",
   "name": "python3"
  },
  "language_info": {
   "codemirror_mode": {
    "name": "ipython",
    "version": 2
   },
   "file_extension": ".py",
   "mimetype": "text/x-python",
   "name": "python",
   "nbconvert_exporter": "python",
   "pygments_lexer": "ipython2",
   "version": "2.7.6"
  }
 },
 "nbformat": 4,
 "nbformat_minor": 5
}
